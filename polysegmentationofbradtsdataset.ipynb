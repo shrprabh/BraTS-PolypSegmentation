{
  "nbformat": 4,
  "nbformat_minor": 0,
  "metadata": {
    "colab": {
      "provenance": [],
      "gpuType": "V28",
      "authorship_tag": "ABX9TyNRIWXAyLYX9ip4NHxgXW8Y",
      "include_colab_link": true
    },
    "kernelspec": {
      "name": "python3",
      "display_name": "Python 3"
    },
    "language_info": {
      "name": "python"
    },
    "accelerator": "TPU"
  },
  "cells": [
    {
      "cell_type": "markdown",
      "metadata": {
        "id": "view-in-github",
        "colab_type": "text"
      },
      "source": [
        "<a href=\"https://colab.research.google.com/github/shrprabh/BraTS-PolypSegmentation/blob/test1000/polysegmentationofbradtsdataset.ipynb\" target=\"_parent\"><img src=\"https://colab.research.google.com/assets/colab-badge.svg\" alt=\"Open In Colab\"/></a>"
      ]
    },
    {
      "cell_type": "markdown",
      "source": [
        "# Install nibabel for handling NIfTI files\n"
      ],
      "metadata": {
        "id": "aVdQbhH-KVjK"
      }
    },
    {
      "cell_type": "code",
      "execution_count": 1,
      "metadata": {
        "colab": {
          "base_uri": "https://localhost:8080/"
        },
        "id": "wTp5_Wn9Hvw1",
        "outputId": "6f07885a-e7d5-4883-dd85-d4e8a7094bfb"
      },
      "outputs": [
        {
          "output_type": "stream",
          "name": "stdout",
          "text": [
            "Collecting nibabel\n",
            "  Downloading nibabel-5.3.2-py3-none-any.whl.metadata (9.1 kB)\n",
            "Requirement already satisfied: importlib-resources>=5.12 in /usr/local/lib/python3.10/dist-packages (from nibabel) (6.4.5)\n",
            "Requirement already satisfied: numpy>=1.22 in /usr/local/lib/python3.10/dist-packages (from nibabel) (1.26.4)\n",
            "Requirement already satisfied: packaging>=20 in /usr/local/lib/python3.10/dist-packages (from nibabel) (24.2)\n",
            "Requirement already satisfied: typing-extensions>=4.6 in /usr/local/lib/python3.10/dist-packages (from nibabel) (4.12.2)\n",
            "Downloading nibabel-5.3.2-py3-none-any.whl (3.3 MB)\n",
            "\u001b[?25l   \u001b[90m━━━━━━━━━━━━━━━━━━━━━━━━━━━━━━━━━━━━━━━━\u001b[0m \u001b[32m0.0/3.3 MB\u001b[0m \u001b[31m?\u001b[0m eta \u001b[36m-:--:--\u001b[0m\r\u001b[2K   \u001b[91m━\u001b[0m\u001b[90m╺\u001b[0m\u001b[90m━━━━━━━━━━━━━━━━━━━━━━━━━━━━━━━━━━━━━━\u001b[0m \u001b[32m0.1/3.3 MB\u001b[0m \u001b[31m2.9 MB/s\u001b[0m eta \u001b[36m0:00:02\u001b[0m\r\u001b[2K   \u001b[91m━━━━━━━━━━\u001b[0m\u001b[90m╺\u001b[0m\u001b[90m━━━━━━━━━━━━━━━━━━━━━━━━━━━━━\u001b[0m \u001b[32m0.8/3.3 MB\u001b[0m \u001b[31m12.3 MB/s\u001b[0m eta \u001b[36m0:00:01\u001b[0m\r\u001b[2K   \u001b[91m━━━━━━━━━━━━━━━━━━━━━━━━━━━━━━━━━━━━━━━\u001b[0m\u001b[91m╸\u001b[0m \u001b[32m3.3/3.3 MB\u001b[0m \u001b[31m35.6 MB/s\u001b[0m eta \u001b[36m0:00:01\u001b[0m\r\u001b[2K   \u001b[90m━━━━━━━━━━━━━━━━━━━━━━━━━━━━━━━━━━━━━━━━\u001b[0m \u001b[32m3.3/3.3 MB\u001b[0m \u001b[31m27.4 MB/s\u001b[0m eta \u001b[36m0:00:00\u001b[0m\n",
            "\u001b[?25hInstalling collected packages: nibabel\n",
            "Successfully installed nibabel-5.3.2\n"
          ]
        }
      ],
      "source": [
        "!pip install nibabel"
      ]
    },
    {
      "cell_type": "markdown",
      "source": [
        "# Import libraries\n"
      ],
      "metadata": {
        "id": "cj4aOQl1KNwC"
      }
    },
    {
      "cell_type": "code",
      "source": [
        "import os\n",
        "import numpy as np\n",
        "import nibabel as nib\n",
        "import cv2\n",
        "import matplotlib.pyplot as plt\n",
        "from glob import glob\n",
        "from sklearn.model_selection import train_test_split\n",
        "import tensorflow as tf\n",
        "from tensorflow.keras.layers import (Input, Conv2D, MaxPooling2D, Conv2DTranspose,\n",
        "                                     BatchNormalization, Activation, Concatenate)\n",
        "from tensorflow.keras.models import Model\n",
        "from tensorflow.keras.optimizers import Adam"
      ],
      "metadata": {
        "id": "UH0iYBX8KS9M"
      },
      "execution_count": 2,
      "outputs": []
    },
    {
      "cell_type": "markdown",
      "source": [
        "# importing files files package to upload a file to get the dataset"
      ],
      "metadata": {
        "id": "frTaNuyYKZBH"
      }
    },
    {
      "cell_type": "code",
      "source": [
        "from google.colab import files\n",
        "files.upload()\n"
      ],
      "metadata": {
        "id": "6OICOOegL2zD",
        "colab": {
          "base_uri": "https://localhost:8080/",
          "height": 90
        },
        "outputId": "ee2231be-e066-453b-933d-d439cf384669"
      },
      "execution_count": 3,
      "outputs": [
        {
          "output_type": "display_data",
          "data": {
            "text/plain": [
              "<IPython.core.display.HTML object>"
            ],
            "text/html": [
              "\n",
              "     <input type=\"file\" id=\"files-90549115-f742-4418-98c0-23e4f171394d\" name=\"files[]\" multiple disabled\n",
              "        style=\"border:none\" />\n",
              "     <output id=\"result-90549115-f742-4418-98c0-23e4f171394d\">\n",
              "      Upload widget is only available when the cell has been executed in the\n",
              "      current browser session. Please rerun this cell to enable.\n",
              "      </output>\n",
              "      <script>// Copyright 2017 Google LLC\n",
              "//\n",
              "// Licensed under the Apache License, Version 2.0 (the \"License\");\n",
              "// you may not use this file except in compliance with the License.\n",
              "// You may obtain a copy of the License at\n",
              "//\n",
              "//      http://www.apache.org/licenses/LICENSE-2.0\n",
              "//\n",
              "// Unless required by applicable law or agreed to in writing, software\n",
              "// distributed under the License is distributed on an \"AS IS\" BASIS,\n",
              "// WITHOUT WARRANTIES OR CONDITIONS OF ANY KIND, either express or implied.\n",
              "// See the License for the specific language governing permissions and\n",
              "// limitations under the License.\n",
              "\n",
              "/**\n",
              " * @fileoverview Helpers for google.colab Python module.\n",
              " */\n",
              "(function(scope) {\n",
              "function span(text, styleAttributes = {}) {\n",
              "  const element = document.createElement('span');\n",
              "  element.textContent = text;\n",
              "  for (const key of Object.keys(styleAttributes)) {\n",
              "    element.style[key] = styleAttributes[key];\n",
              "  }\n",
              "  return element;\n",
              "}\n",
              "\n",
              "// Max number of bytes which will be uploaded at a time.\n",
              "const MAX_PAYLOAD_SIZE = 100 * 1024;\n",
              "\n",
              "function _uploadFiles(inputId, outputId) {\n",
              "  const steps = uploadFilesStep(inputId, outputId);\n",
              "  const outputElement = document.getElementById(outputId);\n",
              "  // Cache steps on the outputElement to make it available for the next call\n",
              "  // to uploadFilesContinue from Python.\n",
              "  outputElement.steps = steps;\n",
              "\n",
              "  return _uploadFilesContinue(outputId);\n",
              "}\n",
              "\n",
              "// This is roughly an async generator (not supported in the browser yet),\n",
              "// where there are multiple asynchronous steps and the Python side is going\n",
              "// to poll for completion of each step.\n",
              "// This uses a Promise to block the python side on completion of each step,\n",
              "// then passes the result of the previous step as the input to the next step.\n",
              "function _uploadFilesContinue(outputId) {\n",
              "  const outputElement = document.getElementById(outputId);\n",
              "  const steps = outputElement.steps;\n",
              "\n",
              "  const next = steps.next(outputElement.lastPromiseValue);\n",
              "  return Promise.resolve(next.value.promise).then((value) => {\n",
              "    // Cache the last promise value to make it available to the next\n",
              "    // step of the generator.\n",
              "    outputElement.lastPromiseValue = value;\n",
              "    return next.value.response;\n",
              "  });\n",
              "}\n",
              "\n",
              "/**\n",
              " * Generator function which is called between each async step of the upload\n",
              " * process.\n",
              " * @param {string} inputId Element ID of the input file picker element.\n",
              " * @param {string} outputId Element ID of the output display.\n",
              " * @return {!Iterable<!Object>} Iterable of next steps.\n",
              " */\n",
              "function* uploadFilesStep(inputId, outputId) {\n",
              "  const inputElement = document.getElementById(inputId);\n",
              "  inputElement.disabled = false;\n",
              "\n",
              "  const outputElement = document.getElementById(outputId);\n",
              "  outputElement.innerHTML = '';\n",
              "\n",
              "  const pickedPromise = new Promise((resolve) => {\n",
              "    inputElement.addEventListener('change', (e) => {\n",
              "      resolve(e.target.files);\n",
              "    });\n",
              "  });\n",
              "\n",
              "  const cancel = document.createElement('button');\n",
              "  inputElement.parentElement.appendChild(cancel);\n",
              "  cancel.textContent = 'Cancel upload';\n",
              "  const cancelPromise = new Promise((resolve) => {\n",
              "    cancel.onclick = () => {\n",
              "      resolve(null);\n",
              "    };\n",
              "  });\n",
              "\n",
              "  // Wait for the user to pick the files.\n",
              "  const files = yield {\n",
              "    promise: Promise.race([pickedPromise, cancelPromise]),\n",
              "    response: {\n",
              "      action: 'starting',\n",
              "    }\n",
              "  };\n",
              "\n",
              "  cancel.remove();\n",
              "\n",
              "  // Disable the input element since further picks are not allowed.\n",
              "  inputElement.disabled = true;\n",
              "\n",
              "  if (!files) {\n",
              "    return {\n",
              "      response: {\n",
              "        action: 'complete',\n",
              "      }\n",
              "    };\n",
              "  }\n",
              "\n",
              "  for (const file of files) {\n",
              "    const li = document.createElement('li');\n",
              "    li.append(span(file.name, {fontWeight: 'bold'}));\n",
              "    li.append(span(\n",
              "        `(${file.type || 'n/a'}) - ${file.size} bytes, ` +\n",
              "        `last modified: ${\n",
              "            file.lastModifiedDate ? file.lastModifiedDate.toLocaleDateString() :\n",
              "                                    'n/a'} - `));\n",
              "    const percent = span('0% done');\n",
              "    li.appendChild(percent);\n",
              "\n",
              "    outputElement.appendChild(li);\n",
              "\n",
              "    const fileDataPromise = new Promise((resolve) => {\n",
              "      const reader = new FileReader();\n",
              "      reader.onload = (e) => {\n",
              "        resolve(e.target.result);\n",
              "      };\n",
              "      reader.readAsArrayBuffer(file);\n",
              "    });\n",
              "    // Wait for the data to be ready.\n",
              "    let fileData = yield {\n",
              "      promise: fileDataPromise,\n",
              "      response: {\n",
              "        action: 'continue',\n",
              "      }\n",
              "    };\n",
              "\n",
              "    // Use a chunked sending to avoid message size limits. See b/62115660.\n",
              "    let position = 0;\n",
              "    do {\n",
              "      const length = Math.min(fileData.byteLength - position, MAX_PAYLOAD_SIZE);\n",
              "      const chunk = new Uint8Array(fileData, position, length);\n",
              "      position += length;\n",
              "\n",
              "      const base64 = btoa(String.fromCharCode.apply(null, chunk));\n",
              "      yield {\n",
              "        response: {\n",
              "          action: 'append',\n",
              "          file: file.name,\n",
              "          data: base64,\n",
              "        },\n",
              "      };\n",
              "\n",
              "      let percentDone = fileData.byteLength === 0 ?\n",
              "          100 :\n",
              "          Math.round((position / fileData.byteLength) * 100);\n",
              "      percent.textContent = `${percentDone}% done`;\n",
              "\n",
              "    } while (position < fileData.byteLength);\n",
              "  }\n",
              "\n",
              "  // All done.\n",
              "  yield {\n",
              "    response: {\n",
              "      action: 'complete',\n",
              "    }\n",
              "  };\n",
              "}\n",
              "\n",
              "scope.google = scope.google || {};\n",
              "scope.google.colab = scope.google.colab || {};\n",
              "scope.google.colab._files = {\n",
              "  _uploadFiles,\n",
              "  _uploadFilesContinue,\n",
              "};\n",
              "})(self);\n",
              "</script> "
            ]
          },
          "metadata": {}
        },
        {
          "output_type": "stream",
          "name": "stdout",
          "text": [
            "Saving kaggle.json to kaggle.json\n"
          ]
        },
        {
          "output_type": "execute_result",
          "data": {
            "text/plain": [
              "{'kaggle.json': b'{\"username\":\"shrprabh\",\"key\":\"323ee59f3e2f0c11df48be77bdb30712\"}'}"
            ]
          },
          "metadata": {},
          "execution_count": 3
        }
      ]
    },
    {
      "cell_type": "code",
      "source": [
        "!mkdir -p ~/.kaggle\n",
        "!cp kaggle.json ~/.kaggle/\n",
        "!chmod 600 ~/.kaggle/kaggle.json\n",
        "!kaggle datasets download -d awsaf49/brats2020-training-data\n"
      ],
      "metadata": {
        "id": "pZ8a9nDqMGnk",
        "outputId": "c6e985dc-5efc-4962-a720-87be5ca48dbe",
        "colab": {
          "base_uri": "https://localhost:8080/"
        }
      },
      "execution_count": 4,
      "outputs": [
        {
          "output_type": "stream",
          "name": "stdout",
          "text": [
            "Dataset URL: https://www.kaggle.com/datasets/awsaf49/brats2020-training-data\n",
            "License(s): CC0-1.0\n",
            "Downloading brats2020-training-data.zip to /content\n",
            "100% 6.74G/6.76G [00:35<00:00, 190MB/s]\n",
            "100% 6.76G/6.76G [00:35<00:00, 204MB/s]\n"
          ]
        }
      ]
    },
    {
      "cell_type": "code",
      "source": [
        "!kaggle datasets download -d awsaf49/brats2020-training-data\n",
        "!unzip -qq brats2020-training-data.zip -d brats2020\n"
      ],
      "metadata": {
        "colab": {
          "base_uri": "https://localhost:8080/"
        },
        "id": "F0f2h-7lH5V5",
        "outputId": "5f090048-2672-4fff-9362-5ad16c485d4a"
      },
      "execution_count": 5,
      "outputs": [
        {
          "output_type": "stream",
          "name": "stdout",
          "text": [
            "Dataset URL: https://www.kaggle.com/datasets/awsaf49/brats2020-training-data\n",
            "License(s): CC0-1.0\n",
            "brats2020-training-data.zip: Skipping, found more recently modified local copy (use --force to force download)\n"
          ]
        }
      ]
    },
    {
      "cell_type": "markdown",
      "source": [
        "#Step 3: Data Preprocessing\n",
        "#Load the images and masks, extract slices, and prepare them for training.#"
      ],
      "metadata": {
        "id": "YD9b677iJkra"
      }
    },
    {
      "cell_type": "markdown",
      "source": [
        "#load libraries"
      ],
      "metadata": {
        "id": "ekD43Y9NNjHK"
      }
    },
    {
      "cell_type": "code",
      "source": [
        "import os\n",
        "import h5py\n",
        "import numpy as np\n",
        "import cv2\n",
        "from sklearn.model_selection import train_test_split\n",
        "import tensorflow as tf\n",
        "from tensorflow.keras.models import Model\n",
        "from tensorflow.keras.layers import (Input, Conv2D, MaxPooling2D, concatenate, Conv2DTranspose,\n",
        "                                     BatchNormalization, Activation, Dropout)\n",
        "from tensorflow.keras.optimizers import Adam\n",
        "from tensorflow.keras.callbacks import ModelCheckpoint, EarlyStopping"
      ],
      "metadata": {
        "id": "DQ3uKo3NFodV"
      },
      "execution_count": 6,
      "outputs": []
    },
    {
      "cell_type": "markdown",
      "source": [
        "# Define your data directory\n",
        "\n"
      ],
      "metadata": {
        "id": "5KiEC85wLEc0"
      }
    },
    {
      "cell_type": "code",
      "source": [
        "data_dir = 'brats2020/BraTS2020_training_data/content/data/'\n"
      ],
      "metadata": {
        "id": "CiFgut5FLCAV"
      },
      "execution_count": 7,
      "outputs": []
    },
    {
      "cell_type": "markdown",
      "source": [
        "# Initialize lists to store image and mask slices\n"
      ],
      "metadata": {
        "id": "QiBZIhJGLKwv"
      }
    },
    {
      "cell_type": "code",
      "source": [
        "image_slices = []\n",
        "mask_slices = []"
      ],
      "metadata": {
        "id": "Vn1yErDULOBG"
      },
      "execution_count": 8,
      "outputs": []
    },
    {
      "cell_type": "code",
      "source": [
        "file_list = [f for f in os.listdir(data_dir) if f.endswith('.h5')][:1000]\n"
      ],
      "metadata": {
        "id": "zEvrDb_LLW6x"
      },
      "execution_count": 9,
      "outputs": []
    },
    {
      "cell_type": "markdown",
      "source": [
        "# Loop over each .h5 file in the directory (only first 1000)\n"
      ],
      "metadata": {
        "id": "Xbmw4ncXLdxp"
      }
    },
    {
      "cell_type": "code",
      "source": [
        "for file_name in file_list:\n",
        "    file_path = os.path.join(data_dir, file_name)\n",
        "\n",
        "    # Open the .h5 file and load the data\n",
        "    with h5py.File(file_path, 'r') as f:\n",
        "        # Assuming 'image' and 'mask' are keys for image and mask data in the .h5 files.\n",
        "        img_slice = np.array(f['image'])\n",
        "        mask_slice = np.array(f['mask'])\n",
        "\n",
        "        # Skip files where the mask is completely black\n",
        "        if np.max(mask_slice) == 0:\n",
        "            continue  # Skip this slice as it contains no segmentation region\n",
        "\n",
        "        # Normalize image slice safely (add epsilon to avoid division by zero)\n",
        "        epsilon = 1e-8\n",
        "        img_slice = (img_slice - img_slice.min()) / (img_slice.max() - img_slice.min() + epsilon)\n",
        "\n",
        "        # Resize image and mask to 256x256 for DUCKNet input\n",
        "        img_resized = cv2.resize(img_slice, (256, 256), interpolation=cv2.INTER_LINEAR)\n",
        "        mask_resized = cv2.resize(mask_slice, (256, 256), interpolation=cv2.INTER_NEAREST)\n",
        "\n",
        "        # Threshold the mask to ensure binary values (0 or 1)\n",
        "        mask_resized = (mask_resized > 0.5).astype(np.float32)\n",
        "\n",
        "        # Ensure the images are in the correct shape and data type\n",
        "        if img_resized.ndim == 2:\n",
        "            img_resized = np.expand_dims(img_resized, axis=-1)\n",
        "        else:\n",
        "            img_resized = img_resized[..., :1]  # Use the first channel\n",
        "\n",
        "        if mask_resized.ndim == 2:\n",
        "            mask_resized = np.expand_dims(mask_resized, axis=-1)\n",
        "        else:\n",
        "            mask_resized = mask_resized[..., :1]  # Use the first channel\n",
        "\n",
        "        # Append to lists\n",
        "        image_slices.append(img_resized)\n",
        "        mask_slices.append(mask_resized)"
      ],
      "metadata": {
        "id": "PzxMghrmLnN5"
      },
      "execution_count": 10,
      "outputs": []
    },
    {
      "cell_type": "markdown",
      "source": [
        "# Convert lists to NumPy arrays\n"
      ],
      "metadata": {
        "id": "KKv7YPNjLqd_"
      }
    },
    {
      "cell_type": "code",
      "source": [
        "X = np.array(image_slices, dtype=np.float32)   # Shape will be (num_samples, 256, 256, 1)\n",
        "y = np.array(mask_slices, dtype=np.float32)    # Shape will be (num_samples, 256, 256, 1)"
      ],
      "metadata": {
        "id": "1JuDRrwJLt6G"
      },
      "execution_count": 11,
      "outputs": []
    },
    {
      "cell_type": "markdown",
      "source": [
        "# Normalize images to [0,1]\n",
        "# Note: Masks are already binary (0 or 1) after thresholding"
      ],
      "metadata": {
        "id": "J3kYGX1ZLu_q"
      }
    },
    {
      "cell_type": "code",
      "source": [
        "X = np.clip(X, 0, 1)  # Ensure X is in [0, 1]\n"
      ],
      "metadata": {
        "id": "EWrbYCBnMCEB"
      },
      "execution_count": 12,
      "outputs": []
    },
    {
      "cell_type": "markdown",
      "source": [
        "# Check for invalid data before training\n"
      ],
      "metadata": {
        "id": "NBJgld2PMMQq"
      }
    },
    {
      "cell_type": "code",
      "source": [
        "print('Total samples:', X.shape[0])\n",
        "print('NaN in X:', np.isnan(X).sum(), 'Inf in X:', np.isinf(X).sum())   # Should both be zero\n",
        "print('NaN in y:', np.isnan(y).sum(), 'Inf in y:', np.isinf(y).sum())   # Should both be zero"
      ],
      "metadata": {
        "colab": {
          "base_uri": "https://localhost:8080/"
        },
        "id": "XX43OD9eML89",
        "outputId": "262f7cbd-67ea-4e13-c8fe-3ea1aabc9e17"
      },
      "execution_count": 13,
      "outputs": [
        {
          "output_type": "stream",
          "name": "stdout",
          "text": [
            "Total samples: 464\n",
            "NaN in X: 0 Inf in X: 0\n",
            "NaN in y: 0 Inf in y: 0\n"
          ]
        }
      ]
    },
    {
      "cell_type": "markdown",
      "source": [
        "# Split data into training and validation sets (80% train, 20% validation)\n"
      ],
      "metadata": {
        "id": "v4stByTbMb66"
      }
    },
    {
      "cell_type": "code",
      "source": [
        "X_train, X_val, y_train, y_val = train_test_split(X, y, test_size=0.2, random_state=42)\n"
      ],
      "metadata": {
        "id": "PV4ExIIyMdUD"
      },
      "execution_count": 14,
      "outputs": []
    },
    {
      "cell_type": "markdown",
      "source": [
        "# Data augmentation parameters for training generator\n"
      ],
      "metadata": {
        "id": "STxHOmbUMo9D"
      }
    },
    {
      "cell_type": "code",
      "source": [
        "data_gen_args = dict(horizontal_flip=True,\n",
        "                     vertical_flip=True,\n",
        "                     rotation_range=90,\n",
        "                     fill_mode='nearest')\n",
        "\n",
        "image_datagen = tf.keras.preprocessing.image.ImageDataGenerator(**data_gen_args)\n",
        "mask_datagen = tf.keras.preprocessing.image.ImageDataGenerator(**data_gen_args)\n",
        "\n",
        "batch_size = 8\n"
      ],
      "metadata": {
        "id": "ewSXP3vrMsEH"
      },
      "execution_count": 15,
      "outputs": []
    },
    {
      "cell_type": "markdown",
      "source": [
        "# Training generator function\n"
      ],
      "metadata": {
        "id": "9KVytMNNMs9C"
      }
    },
    {
      "cell_type": "code",
      "source": [
        "def train_generator(X_train_data, y_train_data, batch_size):\n",
        "    seed_value = 42\n",
        "    image_generator = image_datagen.flow(X_train_data, batch_size=batch_size, seed=seed_value)\n",
        "    mask_generator = mask_datagen.flow(y_train_data, batch_size=batch_size, seed=seed_value)\n",
        "    for img, mask in zip(image_generator, mask_generator):\n",
        "        yield (img, mask)\n",
        "\n",
        "train_gen = train_generator(X_train, y_train, batch_size)\n",
        "steps_per_epoch = len(X_train) // batch_size"
      ],
      "metadata": {
        "id": "bRNRQ8gVM1MB"
      },
      "execution_count": 16,
      "outputs": []
    },
    {
      "cell_type": "markdown",
      "source": [
        "# Define DUCKNet architecture with dense blocks\n"
      ],
      "metadata": {
        "id": "aXpTpOUfM2Al"
      }
    },
    {
      "cell_type": "code",
      "source": [
        "def dense_block(x, filters, kernel_size=3, padding='same', activation='relu'):\n",
        "    conv1 = Conv2D(filters, kernel_size, padding=padding)(x)\n",
        "    bn1 = BatchNormalization()(conv1)\n",
        "    act1 = Activation(activation)(bn1)\n",
        "    concat1 = concatenate([x, act1], axis=-1)\n",
        "\n",
        "    conv2 = Conv2D(filters, kernel_size, padding=padding)(concat1)\n",
        "    bn2 = BatchNormalization()(conv2)\n",
        "    act2 = Activation(activation)(bn2)\n",
        "    concat2 = concatenate([x, act1, act2], axis=-1)\n",
        "\n",
        "    conv3 = Conv2D(filters, kernel_size, padding=padding)(concat2)\n",
        "    bn3 = BatchNormalization()(conv3)\n",
        "    act3 = Activation(activation)(bn3)\n",
        "    return act3\n",
        "def DUCKNet(input_size=(256, 256, 1)):\n",
        "    inputs = Input(input_size)\n",
        "\n",
        "    # Encoder\n",
        "    # Block 1\n",
        "    db1 = dense_block(inputs, 64)\n",
        "    pool1 = MaxPooling2D(pool_size=(2, 2))(db1)\n",
        "\n",
        "    # Block 2\n",
        "    db2 = dense_block(pool1, 128)\n",
        "    pool2 = MaxPooling2D(pool_size=(2, 2))(db2)\n",
        "\n",
        "    # Block 3\n",
        "    db3 = dense_block(pool2, 256)\n",
        "    pool3 = MaxPooling2D(pool_size=(2, 2))(db3)\n",
        "\n",
        "    # Block 4\n",
        "    db4 = dense_block(pool3, 512)\n",
        "    pool4 = MaxPooling2D(pool_size=(2, 2))(db4)\n",
        "\n",
        "    # Bottom\n",
        "    db5 = dense_block(pool4, 1024)\n",
        "\n",
        "    # Decoder\n",
        "    up6 = Conv2DTranspose(512, 2, strides=(2, 2), padding='same')(db5)\n",
        "    merge6 = concatenate([up6, db4], axis=-1)\n",
        "    db6 = dense_block(merge6, 512)\n",
        "\n",
        "    up7 = Conv2DTranspose(256, 2, strides=(2, 2), padding='same')(db6)\n",
        "    merge7 = concatenate([up7, db3], axis=-1)\n",
        "    db7 = dense_block(merge7, 256)\n",
        "\n",
        "    up8 = Conv2DTranspose(128, 2, strides=(2, 2), padding='same')(db7)\n",
        "    merge8 = concatenate([up8, db2], axis=-1)\n",
        "    db8 = dense_block(merge8, 128)\n",
        "\n",
        "    up9 = Conv2DTranspose(64, 2, strides=(2, 2), padding='same')(db8)\n",
        "    merge9 = concatenate([up9, db1], axis=-1)\n",
        "    db9 = dense_block(merge9, 64)\n",
        "\n",
        "    conv10 = Conv2D(1, 1, activation='sigmoid')(db9)\n",
        "\n",
        "    model = Model(inputs=inputs, outputs=conv10)\n",
        "    return model"
      ],
      "metadata": {
        "id": "y5nWHJ5vM-Qp"
      },
      "execution_count": 17,
      "outputs": []
    },
    {
      "cell_type": "markdown",
      "source": [
        "# Build and compile the model\n"
      ],
      "metadata": {
        "id": "63IysEv8NIhl"
      }
    },
    {
      "cell_type": "code",
      "source": [
        "model = DUCKNet(input_size=(256, 256, 1))\n",
        "model.compile(optimizer=Adam(learning_rate=1e-4), loss='binary_crossentropy', metrics=['accuracy'])"
      ],
      "metadata": {
        "id": "IHjemjZgNNRb"
      },
      "execution_count": 18,
      "outputs": []
    },
    {
      "cell_type": "markdown",
      "source": [
        "# Set up callbacks\n"
      ],
      "metadata": {
        "id": "fJUbnFVhNOV9"
      }
    },
    {
      "cell_type": "code",
      "source": [
        "callbacks = [\n",
        "    ModelCheckpoint('ducknet_brats.h5', monitor='val_loss', save_best_only=True),\n",
        "    EarlyStopping(patience=5, monitor='val_loss', restore_best_weights=True)\n",
        "]"
      ],
      "metadata": {
        "id": "q_9p_1TINW4X"
      },
      "execution_count": 19,
      "outputs": []
    },
    {
      "cell_type": "markdown",
      "source": [
        "# Train the model"
      ],
      "metadata": {
        "id": "i6RGEV6VNa2F"
      }
    },
    {
      "cell_type": "code",
      "source": [
        "history = model.fit(train_gen,\n",
        "                    steps_per_epoch=steps_per_epoch,\n",
        "                    epochs=30,\n",
        "                    validation_data=(X_val, y_val),\n",
        "                    callbacks=callbacks)"
      ],
      "metadata": {
        "colab": {
          "base_uri": "https://localhost:8080/"
        },
        "id": "Wy6xS8kWNeww",
        "outputId": "600a5f68-34ae-42b9-9d3b-a56cfacaa28c"
      },
      "execution_count": 20,
      "outputs": [
        {
          "output_type": "stream",
          "name": "stdout",
          "text": [
            "Epoch 1/2\n",
            "46/46 [==============================] - ETA: 0s - loss: 0.3138 - accuracy: 0.9441  "
          ]
        },
        {
          "output_type": "stream",
          "name": "stderr",
          "text": [
            "/usr/local/lib/python3.10/dist-packages/keras/src/engine/training.py:3103: UserWarning: You are saving your model as an HDF5 file via `model.save()`. This file format is considered legacy. We recommend using instead the native Keras format, e.g. `model.save('my_model.keras')`.\n",
            "  saving_api.save_model(\n"
          ]
        },
        {
          "output_type": "stream",
          "name": "stdout",
          "text": [
            "\b\b\b\b\b\b\b\b\b\b\b\b\b\b\b\b\b\b\b\b\b\b\b\b\b\b\b\b\b\b\b\b\b\b\b\b\b\b\b\b\b\b\b\b\b\b\b\b\b\b\b\b\b\b\b\b\b\b\b\b\b\b\b\b\b\b\b\b\b\b\b\b\b\b\b\b\b\b\b\b\b\b\r46/46 [==============================] - 4792s 104s/step - loss: 0.3138 - accuracy: 0.9441 - val_loss: 0.5671 - val_accuracy: 0.9189\n",
            "Epoch 2/2\n",
            "46/46 [==============================] - 4710s 104s/step - loss: 0.1590 - accuracy: 0.9927 - val_loss: 0.5052 - val_accuracy: 0.9945\n"
          ]
        }
      ]
    },
    {
      "cell_type": "markdown",
      "source": [],
      "metadata": {
        "id": "SLG7Np0XNXvO"
      }
    },
    {
      "cell_type": "markdown",
      "source": [
        "# Get the list of .h5 files and limit it to the first 1000 files\n"
      ],
      "metadata": {
        "id": "L-6t8GOxLP1B"
      }
    },
    {
      "cell_type": "markdown",
      "source": [],
      "metadata": {
        "id": "p4ZBeTNFLIRy"
      }
    },
    {
      "cell_type": "code",
      "source": [
        "# Plot training & validation accuracy and loss values\n",
        "import matplotlib.pyplot as plt\n",
        "\n",
        "# Ensure inline plotting if using Jupyter Notebook\n",
        "%matplotlib inline\n",
        "\n",
        "# Plot accuracy\n",
        "plt.figure(figsize=(14, 5))\n",
        "\n",
        "plt.subplot(1, 2, 1)\n",
        "plt.plot(history.history['accuracy'], label='Train Accuracy', marker='o')\n",
        "plt.plot(history.history['val_accuracy'], label='Validation Accuracy', marker='o')\n",
        "plt.title('DUCKNet Model Accuracy')\n",
        "plt.xlabel('Epoch')\n",
        "plt.ylabel('Accuracy')\n",
        "plt.legend(loc='lower right')\n",
        "plt.grid(True)\n",
        "\n",
        "# Plot loss\n",
        "plt.subplot(1, 2, 2)\n",
        "plt.plot(history.history['loss'], label='Train Loss', marker='o')\n",
        "plt.plot(history.history['val_loss'], label='Validation Loss', marker='o')\n",
        "plt.title('DUCKNet Model Loss')\n",
        "plt.xlabel('Epoch')\n",
        "plt.ylabel('Loss')\n",
        "plt.legend(loc='upper right')\n",
        "plt.grid(True)\n",
        "\n",
        "plt.tight_layout()\n",
        "plt.show()\n"
      ],
      "metadata": {
        "colab": {
          "base_uri": "https://localhost:8080/",
          "height": 480
        },
        "id": "G8d5iqUeli90",
        "outputId": "c8200cc3-a129-451f-e3f1-ff7c517c2f94"
      },
      "execution_count": 21,
      "outputs": [
        {
          "output_type": "display_data",
          "data": {
            "text/plain": [
              "<Figure size 1400x500 with 2 Axes>"
            ],
            "image/png": "[encoded data removed]"
          },
          "metadata": {}
        }
      ]
    },
    {
      "cell_type": "code",
      "source": [
        "import os\n",
        "\n",
        "# Create directories for saving images and masks\n",
        "output_dir = 'output_images'\n",
        "os.makedirs(f\"{output_dir}/train/images\", exist_ok=True)\n",
        "os.makedirs(f\"{output_dir}/train/masks\", exist_ok=True)\n",
        "os.makedirs(f\"{output_dir}/val/images\", exist_ok=True)\n",
        "os.makedirs(f\"{output_dir}/val/masks\", exist_ok=True)\n",
        "\n",
        "# Save training images and masks\n",
        "for i, (image, mask) in enumerate(zip(X_train, y_train)):\n",
        "    cv2.imwrite(f\"{output_dir}/train/images/image_{i}.png\", (image * 255).astype(np.uint8))\n",
        "    cv2.imwrite(f\"{output_dir}/train/masks/mask_{i}.png\", (mask * 255).astype(np.uint8))\n",
        "\n",
        "# Save validation images and masks\n",
        "for i, (image, mask) in enumerate(zip(X_val, y_val)):\n",
        "    cv2.imwrite(f\"{output_dir}/val/images/image_{i}.png\", (image * 255).astype(np.uint8))\n",
        "    cv2.imwrite(f\"{output_dir}/val/masks/mask_{i}.png\", (mask * 255).astype(np.uint8))\n"
      ],
      "metadata": {
        "id": "gzgkylTroBJj"
      },
      "execution_count": 22,
      "outputs": []
    },
    {
      "cell_type": "code",
      "source": [],
      "metadata": {
        "id": "Nm-lxb59sNmr"
      },
      "execution_count": 22,
      "outputs": []
    }
  ]
}